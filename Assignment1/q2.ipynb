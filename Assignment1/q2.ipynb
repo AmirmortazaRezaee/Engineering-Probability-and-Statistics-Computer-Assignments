{
 "cells": [
  {
   "cell_type": "markdown",
   "metadata": {},
   "source": [
    "CA1-Q2-AmirmortazaRezaee_810101429"
   ]
  },
  {
   "cell_type": "code",
   "execution_count": 1,
   "metadata": {},
   "outputs": [],
   "source": [
    "import sympy as sp"
   ]
  },
  {
   "cell_type": "markdown",
   "metadata": {},
   "source": [
    "q2a"
   ]
  },
  {
   "cell_type": "code",
   "execution_count": 2,
   "metadata": {},
   "outputs": [
    {
     "name": "stdout",
     "output_type": "stream",
     "text": [
      "pr(x>60) =  0.301194211912202\n"
     ]
    }
   ],
   "source": [
    "def pdf(x):\n",
    "    return (1/50)*sp.exp(-x/50)\n",
    "x = sp.Symbol('x')\n",
    "prob=1-(sp.integrate(pdf(x),(x,0,60)).evalf())\n",
    "print (\"pr(x>60) = \",prob)"
   ]
  },
  {
   "cell_type": "markdown",
   "metadata": {},
   "source": [
    "q2b"
   ]
  },
  {
   "cell_type": "code",
   "execution_count": 3,
   "metadata": {},
   "outputs": [
    {
     "name": "stdout",
     "output_type": "stream",
     "text": [
      "total cast for 1000 cars =  2000.00000000000 $\n"
     ]
    }
   ],
   "source": [
    "x = sp.Symbol('x')\n",
    "LOTUS_integrand = ((0.5+0.03*x)*(1/50)*sp.exp(-x/50))\n",
    "mean_cost_for_each_car = sp.integrate(LOTUS_integrand, (x, 0, sp.oo))\n",
    "cost = 1000 * mean_cost_for_each_car\n",
    "print (\"total cast for 1000 cars = \",cost,\"$\")"
   ]
  }
 ],
 "metadata": {
  "kernelspec": {
   "display_name": "Python 3",
   "language": "python",
   "name": "python3"
  },
  "language_info": {
   "codemirror_mode": {
    "name": "ipython",
    "version": 3
   },
   "file_extension": ".py",
   "mimetype": "text/x-python",
   "name": "python",
   "nbconvert_exporter": "python",
   "pygments_lexer": "ipython3",
   "version": "3.12.0"
  }
 },
 "nbformat": 4,
 "nbformat_minor": 2
}
