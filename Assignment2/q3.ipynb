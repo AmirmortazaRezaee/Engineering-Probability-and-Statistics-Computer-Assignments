{
 "cells": [
  {
   "cell_type": "markdown",
   "metadata": {},
   "source": [
    "CA2-Q3-AmirmortazaRezaee_810101429"
   ]
  },
  {
   "cell_type": "code",
   "execution_count": 1,
   "metadata": {},
   "outputs": [],
   "source": [
    "import sympy as sp"
   ]
  },
  {
   "cell_type": "markdown",
   "metadata": {},
   "source": [
    "Q3_a"
   ]
  },
  {
   "cell_type": "code",
   "execution_count": 2,
   "metadata": {},
   "outputs": [],
   "source": [
    "x = sp.Symbol('x')\n",
    "y = sp.Symbol('y')\n",
    "integrand = y\n",
    "x_lower_limit = 0\n",
    "x_upper_limit = 2\n",
    "def y_lower_limit(x):\n",
    "    return 0\n",
    "def y_upper_limit(x):\n",
    "    return (x*x)"
   ]
  },
  {
   "cell_type": "code",
   "execution_count": 3,
   "metadata": {},
   "outputs": [
    {
     "name": "stdout",
     "output_type": "stream",
     "text": [
      "k =  0.3125\n"
     ]
    }
   ],
   "source": [
    "result = sp.integrate(sp.integrate(integrand, (y, y_lower_limit(x), y_upper_limit(x))), (x, x_lower_limit, x_upper_limit))\n",
    "k = 1/result\n",
    "print(\"k = \",float(k))"
   ]
  },
  {
   "cell_type": "markdown",
   "metadata": {},
   "source": [
    "Q3_b"
   ]
  },
  {
   "cell_type": "code",
   "execution_count": 4,
   "metadata": {},
   "outputs": [],
   "source": [
    "joint_pdf = k * y\n",
    "pdf_x = sp.integrate(joint_pdf,  (y, y_lower_limit(x), y_upper_limit(x)))\n",
    "pdf_y = sp.integrate(joint_pdf,  (x, sp.sqrt(y), x_upper_limit))"
   ]
  },
  {
   "cell_type": "code",
   "execution_count": 6,
   "metadata": {},
   "outputs": [
    {
     "name": "stdout",
     "output_type": "stream",
     "text": [
      "joint pdf =  5*y/16\n",
      "pdf_x * pdf_y =  25*x**4*(-y**(3/2) + 2*y)/512\n",
      "X & Y are not independent\n",
      "\n"
     ]
    }
   ],
   "source": [
    "print(\"joint pdf = \", joint_pdf)\n",
    "print(\"pdf_x * pdf_y = \", sp.simplify(pdf_x*pdf_y))\n",
    "if pdf_y * pdf_x == joint_pdf:\n",
    "    print('X & Y are independent\\n')\n",
    "else:\n",
    "    print('X & Y are not independent\\n')"
   ]
  },
  {
   "cell_type": "markdown",
   "metadata": {},
   "source": [
    "Q3_c"
   ]
  },
  {
   "cell_type": "code",
   "execution_count": 7,
   "metadata": {},
   "outputs": [
    {
     "name": "stdout",
     "output_type": "stream",
     "text": [
      "mean diesel consumption is :  9.19047619047619\n"
     ]
    }
   ],
   "source": [
    "consomption = 3 + 2*x + 1.5*y\n",
    "mean = sp.integrate(sp.integrate((consomption * joint_pdf), (y, y_lower_limit(x), y_upper_limit(x))), (x, x_lower_limit, x_upper_limit))\n",
    "print(\"mean diesel consumption is : \" , mean)"
   ]
  }
 ],
 "metadata": {
  "kernelspec": {
   "display_name": "Python 3",
   "language": "python",
   "name": "python3"
  },
  "language_info": {
   "codemirror_mode": {
    "name": "ipython",
    "version": 3
   },
   "file_extension": ".py",
   "mimetype": "text/x-python",
   "name": "python",
   "nbconvert_exporter": "python",
   "pygments_lexer": "ipython3",
   "version": "3.12.0"
  }
 },
 "nbformat": 4,
 "nbformat_minor": 2
}
