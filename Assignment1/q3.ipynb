{
 "cells": [
  {
   "cell_type": "markdown",
   "metadata": {},
   "source": [
    "CA1-Q3-AmirmortazaRezaee_810101429"
   ]
  },
  {
   "cell_type": "code",
   "execution_count": 1,
   "metadata": {},
   "outputs": [],
   "source": [
    "import sympy as sp\n",
    "import matplotlib.pyplot as plt\n",
    "import math"
   ]
  },
  {
   "cell_type": "code",
   "execution_count": 2,
   "metadata": {},
   "outputs": [],
   "source": [
    "def pmf(x , n , p):\n",
    "    return(math.comb(n,x)*((p)**x)*((1-p)**(n-x)))"
   ]
  },
  {
   "cell_type": "markdown",
   "metadata": {},
   "source": [
    "q3_1"
   ]
  },
  {
   "cell_type": "code",
   "execution_count": 3,
   "metadata": {},
   "outputs": [
    {
     "data": {
      "image/png": "[encoded data removed]",
      "text/plain": [
       "<Figure size 640x480 with 1 Axes>"
      ]
     },
     "metadata": {},
     "output_type": "display_data"
    }
   ],
   "source": [
    "x = sp.Symbol('x')\n",
    "pmf_list_1=[]\n",
    "cdf_list_1=[0,0,0,0,0,0,0,0,0]\n",
    "X_list=[]\n",
    "n_1=8\n",
    "p_1=0.3\n",
    "for i in range(0, n_1+1):\n",
    "    pmf_value=pmf(i,n_1,p_1)\n",
    "    pmf_list_1.append(pmf_value)\n",
    "    X_list.append(i)\n",
    "cdf_list_1[0]=pmf_list_1[0]\n",
    "for i in range(1,n_1+1):\n",
    "    cdf_list_1[i]=cdf_list_1[i-1]+pmf_list_1[i]\n",
    "plt.scatter(X_list,pmf_list_1, label='PMF')\n",
    "plt.step(X_list,cdf_list_1, label='CDF')\n",
    "plt.xlabel('x')\n",
    "plt.ylabel('PDF & CDF')\n",
    "plt.grid(True)\n",
    "plt.legend()\n",
    "plt.show()"
   ]
  },
  {
   "cell_type": "markdown",
   "metadata": {},
   "source": [
    "q3_2"
   ]
  },
  {
   "cell_type": "code",
   "execution_count": 4,
   "metadata": {},
   "outputs": [
    {
     "name": "stdout",
     "output_type": "stream",
     "text": [
      "k= 5  , F(x)=  0.4482261900000001\n"
     ]
    }
   ],
   "source": [
    "pmf_list_2=[]\n",
    "cdf_list_2=[0,0,0,0,0,0,0,0,0]\n",
    "X_list=[]\n",
    "n_2=8\n",
    "p_2=0.7\n",
    "for i in range(0, n_2+1):\n",
    "    pmf_value=pmf(i,n_2,p_2)\n",
    "    pmf_list_2.append(pmf_value)\n",
    "    X_list.append(i)\n",
    "cdf_list_2[0]=pmf_list_2[0]\n",
    "for i in range(1,n_2+1):\n",
    "    cdf_list_2[i]=cdf_list_2[i-1]+pmf_list_2[i]\n",
    "for x in range(0,n_2+1):\n",
    "    F=cdf_list_2[x]\n",
    "    if (F>=0.44):\n",
    "        print(\"k=\", x , \" , F(x)= \",F)\n",
    "        break"
   ]
  },
  {
   "cell_type": "markdown",
   "metadata": {},
   "source": [
    "q3_3"
   ]
  },
  {
   "cell_type": "code",
   "execution_count": 8,
   "metadata": {},
   "outputs": [
    {
     "name": "stdout",
     "output_type": "stream",
     "text": [
      "p(y>=3) = 1-F(3) =  0.588551138043431\n",
      "[0.011529215046068483, 0.05764607523034241, 0.13690942867206324, 0.20536414300809488, 0.21819940194610077, 0.17455952155688062, 0.1090997009730504, 0.05454985048652519, 0.022160876760150862, 0.007386958920050287, 0.0020314137030138287, 0.0004616849325031429, 8.656592484433929e-05, 1.3317834591436814e-05, 1.6647293239296018e-06, 1.6647293239296019e-07, 1.3005697843200014e-08, 7.65041049600001e-10, 3.187671040000004e-11, 8.388608000000009e-13, 1.0485760000000012e-14]\n",
      "[0.011529215046068483, 0.0691752902764109, 0.20608471894847413, 0.41144886195656905, 0.6296482639026698, 0.8042077854595504, 0.9133074864326008, 0.967857336919126, 0.9900182136792769, 0.9974051725993271, 0.999436586302341, 0.9998982712348441, 0.9999848371596884, 0.9999981549942799, 0.9999998197236039, 0.9999999861965363, 0.9999999992022341, 0.9999999999672752, 0.9999999999991519, 0.9999999999999908]\n",
      "[0, 1, 2, 3, 4, 5, 6, 7, 8, 9, 10, 11, 12, 13, 14, 15, 16, 17, 18, 19, 20]\n"
     ]
    }
   ],
   "source": [
    "n_3=20\n",
    "p_3=0.2\n",
    "pmf_list_3=[]\n",
    "cdf_list_3=[0] * n_3 \n",
    "Y_list=[]\n",
    "for i in range(0, n_3+1):\n",
    "    pmf_value=pmf(i,n_3,p_3)\n",
    "    pmf_list_3.append(pmf_value)\n",
    "    Y_list.append(i)\n",
    "cdf_list_3[0]=pmf_list_3[0]\n",
    "for i in range(1,n_3):\n",
    "    cdf_list_3[i]=cdf_list_3[i-1]+pmf_list_3[i]\n",
    "print(\"p(y>=3) = 1-F(2) = \",1-cdf_list_3[2])"
   ]
  }
 ],
 "metadata": {
  "kernelspec": {
   "display_name": "Python 3",
   "language": "python",
   "name": "python3"
  },
  "language_info": {
   "codemirror_mode": {
    "name": "ipython",
    "version": 3
   },
   "file_extension": ".py",
   "mimetype": "text/x-python",
   "name": "python",
   "nbconvert_exporter": "python",
   "pygments_lexer": "ipython3",
   "version": "3.12.0"
  }
 },
 "nbformat": 4,
 "nbformat_minor": 2
}
