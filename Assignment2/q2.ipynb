{
 "cells": [
  {
   "cell_type": "markdown",
   "metadata": {},
   "source": [
    "CA2-Q2-AmirmortazaRezaee_810101429"
   ]
  },
  {
   "cell_type": "code",
   "execution_count": 1,
   "metadata": {},
   "outputs": [],
   "source": [
    "import numpy as np\n",
    "import random"
   ]
  },
  {
   "cell_type": "code",
   "execution_count": 2,
   "metadata": {},
   "outputs": [],
   "source": [
    "lambda_value = 5\n",
    "the_array = []\n",
    "the_array = np.random.poisson(lambda_value,1000)\n"
   ]
  },
  {
   "cell_type": "markdown",
   "metadata": {},
   "source": [
    "sample size = 5"
   ]
  },
  {
   "cell_type": "code",
   "execution_count": 3,
   "metadata": {},
   "outputs": [
    {
     "name": "stdout",
     "output_type": "stream",
     "text": [
      "average for sample size 5 :  5.088920000000001\n"
     ]
    }
   ],
   "source": [
    "list_five = []\n",
    "for i in range(0,10000):\n",
    "    random_indexes_five = [random.randint(0, 999) for _ in range(5)]\n",
    "    sum_five = 0\n",
    "    average_five = 0\n",
    "    for j in range(0,5):\n",
    "        sum_five = sum_five + the_array[random_indexes_five[j]]\n",
    "    average_five = sum_five/5\n",
    "    list_five.append(average_five)\n",
    "total_average_five = np.mean(list_five)\n",
    "print(\"average for sample size 5 : \",total_average_five)"
   ]
  },
  {
   "cell_type": "markdown",
   "metadata": {},
   "source": [
    "sample size = 10"
   ]
  },
  {
   "cell_type": "code",
   "execution_count": 4,
   "metadata": {},
   "outputs": [
    {
     "name": "stdout",
     "output_type": "stream",
     "text": [
      "average for sample size 10 :  5.0999099999999995\n"
     ]
    }
   ],
   "source": [
    "list_ten = []\n",
    "for i in range(0,10000):\n",
    "    random_indexes_ten = [random.randint(0, 999) for _ in range(10)]\n",
    "    sum_ten = 0\n",
    "    average_ten = 0\n",
    "    for j in range(0,10):\n",
    "        sum_ten = sum_ten + the_array[random_indexes_ten[j]]\n",
    "    average_ten = sum_ten/10\n",
    "    list_ten.append(average_ten)\n",
    "total_average_ten = np.mean(list_ten)\n",
    "print(\"average for sample size 10 : \",total_average_ten)"
   ]
  },
  {
   "cell_type": "markdown",
   "metadata": {},
   "source": [
    "sample size = 20"
   ]
  },
  {
   "cell_type": "code",
   "execution_count": 5,
   "metadata": {},
   "outputs": [
    {
     "name": "stdout",
     "output_type": "stream",
     "text": [
      "average for sample size 20 :  5.103879999999999\n"
     ]
    }
   ],
   "source": [
    "list_twenty = []\n",
    "for i in range(0,10000):\n",
    "    random_indexes_twenty= [random.randint(0, 999) for _ in range(20)]\n",
    "    sum_twenty = 0\n",
    "    average_twenty = 0\n",
    "    for j in range(0,20):\n",
    "        sum_twenty = sum_twenty + the_array[random_indexes_twenty[j]]\n",
    "    average_twenty = sum_twenty/20\n",
    "    list_twenty.append(average_twenty)\n",
    "total_average_twenty = np.mean(list_twenty)\n",
    "print(\"average for sample size 20 : \",total_average_twenty)"
   ]
  },
  {
   "cell_type": "markdown",
   "metadata": {},
   "source": [
    "sample size = 40"
   ]
  },
  {
   "cell_type": "code",
   "execution_count": 6,
   "metadata": {},
   "outputs": [
    {
     "name": "stdout",
     "output_type": "stream",
     "text": [
      "average for sample size 40 :  5.0978674999999996\n"
     ]
    }
   ],
   "source": [
    "list_forty = []\n",
    "for i in range(0,10000):\n",
    "    random_indexes_forty= [random.randint(0, 999) for _ in range(40)]\n",
    "    sum_forty = 0\n",
    "    average_forty = 0\n",
    "    for j in range(0,40):\n",
    "        sum_forty = sum_forty + the_array[random_indexes_forty[j]]\n",
    "    average_forty = sum_forty/40\n",
    "    list_forty.append(average_forty)\n",
    "total_average_forty = np.mean(list_forty)\n",
    "print(\"average for sample size 40 : \",total_average_forty)"
   ]
  }
 ],
 "metadata": {
  "kernelspec": {
   "display_name": "Python 3",
   "language": "python",
   "name": "python3"
  },
  "language_info": {
   "codemirror_mode": {
    "name": "ipython",
    "version": 3
   },
   "file_extension": ".py",
   "mimetype": "text/x-python",
   "name": "python",
   "nbconvert_exporter": "python",
   "pygments_lexer": "ipython3",
   "version": "3.12.0"
  }
 },
 "nbformat": 4,
 "nbformat_minor": 2
}
