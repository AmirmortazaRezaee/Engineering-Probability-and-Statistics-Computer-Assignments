{
 "cells": [
  {
   "cell_type": "markdown",
   "metadata": {},
   "source": [
    "CA2-Q4-AmirmortazaRezaee_810101429"
   ]
  },
  {
   "cell_type": "code",
   "execution_count": 1,
   "metadata": {},
   "outputs": [],
   "source": [
    "import sympy as sp"
   ]
  },
  {
   "cell_type": "markdown",
   "metadata": {},
   "source": [
    "Q4_a"
   ]
  },
  {
   "cell_type": "code",
   "execution_count": 2,
   "metadata": {},
   "outputs": [],
   "source": [
    "x = sp.Symbol('x')\n",
    "y = sp.Symbol('y')\n",
    "integrand = y\n",
    "x_lower_limit_1 = -2\n",
    "x_upper_limit_1 = -1\n",
    "x_lower_limit_2 = 1\n",
    "x_upper_limit_2 = 2\n",
    "def y_lower_limit(x):\n",
    "    return 1\n",
    "def y_upper_limit(x):\n",
    "    return (x*x)"
   ]
  },
  {
   "cell_type": "code",
   "execution_count": 3,
   "metadata": {},
   "outputs": [
    {
     "name": "stdout",
     "output_type": "stream",
     "text": [
      "k =  0.19230769230769232\n"
     ]
    }
   ],
   "source": [
    "result_1 = sp.integrate(sp.integrate(integrand, (y, y_lower_limit(x), y_upper_limit(x))), (x, x_lower_limit_1, x_upper_limit_1))\n",
    "result_2 = sp.integrate(sp.integrate(integrand, (y, y_lower_limit(x), y_upper_limit(x))), (x, x_lower_limit_2, x_upper_limit_2))\n",
    "k = 1/(result_1+result_2)\n",
    "print(\"k = \",float(k))"
   ]
  },
  {
   "cell_type": "markdown",
   "metadata": {},
   "source": [
    "Q4_b"
   ]
  },
  {
   "cell_type": "code",
   "execution_count": 4,
   "metadata": {},
   "outputs": [
    {
     "name": "stdout",
     "output_type": "stream",
     "text": [
      "pdf_x =  5*x**4/52 - 5/52\n",
      "pdf_y =  -5*y**(3/2)/13 + 10*y/13\n"
     ]
    }
   ],
   "source": [
    "joint_pdf = k * y\n",
    "pdf_x = sp.integrate(joint_pdf,  (y, y_lower_limit(x), y_upper_limit(x)))\n",
    "pdf_y = sp.integrate(joint_pdf,  (x, x_lower_limit_1, -sp.sqrt(y))) + sp.integrate(joint_pdf,  (x, sp.sqrt(y), x_upper_limit_2))\n",
    "print(\"pdf_x = \", sp.simplify(pdf_x))\n",
    "print(\"pdf_y = \", sp.simplify(pdf_y))"
   ]
  },
  {
   "cell_type": "markdown",
   "metadata": {},
   "source": [
    "Q4_c"
   ]
  },
  {
   "cell_type": "code",
   "execution_count": 7,
   "metadata": {},
   "outputs": [
    {
     "name": "stdout",
     "output_type": "stream",
     "text": [
      "conditional_result :  0.789334763174012\n"
     ]
    }
   ],
   "source": [
    "y_new_lower_limit = 1.5\n",
    "pdf_A = sp.integrate(sp.integrate(joint_pdf, (y, y_new_lower_limit, y_upper_limit(x))), (x, x_lower_limit_1, -sp.sqrt(1.5)))\n",
    "pdf_B =  sp.integrate(pdf_x,  (x, x_lower_limit_1, x_upper_limit_1))\n",
    "conditional_result = pdf_A / pdf_B\n",
    "print(\"conditional_result : \", conditional_result)"
   ]
  }
 ],
 "metadata": {
  "kernelspec": {
   "display_name": "Python 3",
   "language": "python",
   "name": "python3"
  },
  "language_info": {
   "codemirror_mode": {
    "name": "ipython",
    "version": 3
   },
   "file_extension": ".py",
   "mimetype": "text/x-python",
   "name": "python",
   "nbconvert_exporter": "python",
   "pygments_lexer": "ipython3",
   "version": "3.12.0"
  }
 },
 "nbformat": 4,
 "nbformat_minor": 2
}
